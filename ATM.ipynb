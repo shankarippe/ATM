{
 "cells": [
  {
   "cell_type": "code",
   "execution_count": 2,
   "id": "08736eec-e9f9-4674-91f3-65b09e65cf7a",
   "metadata": {},
   "outputs": [
    {
     "name": "stdout",
     "output_type": "stream",
     "text": [
      "please insert your CARD\n"
     ]
    },
    {
     "name": "stdin",
     "output_type": "stream",
     "text": [
      "please enter your bank name ? federal\n",
      "enter your pin: 1234\n"
     ]
    },
    {
     "name": "stdout",
     "output_type": "stream",
     "text": [
      "\n",
      "                1. Balance\n",
      "                2. Withdraw balance\n",
      "                3. Deposit balance\n",
      "                4. Create account\n",
      "                5. Create Pin\n",
      "                6. Exit\n",
      "        \n"
     ]
    },
    {
     "name": "stdin",
     "output_type": "stream",
     "text": [
      "please enter your option: 1\n"
     ]
    },
    {
     "name": "stdout",
     "output_type": "stream",
     "text": [
      "your current balance is 10000\n",
      "\n",
      "                1. Balance\n",
      "                2. Withdraw balance\n",
      "                3. Deposit balance\n",
      "                4. Create account\n",
      "                5. Create Pin\n",
      "                6. Exit\n",
      "        \n"
     ]
    },
    {
     "name": "stdin",
     "output_type": "stream",
     "text": [
      "please enter your option: 3\n",
      "please enter deposit_amount 12312314234\n"
     ]
    },
    {
     "name": "stdout",
     "output_type": "stream",
     "text": [
      "12312314234 is credited to your account\n",
      "your current balance is12312324234\n",
      "\n",
      "                1. Balance\n",
      "                2. Withdraw balance\n",
      "                3. Deposit balance\n",
      "                4. Create account\n",
      "                5. Create Pin\n",
      "                6. Exit\n",
      "        \n"
     ]
    },
    {
     "name": "stdin",
     "output_type": "stream",
     "text": [
      "please enter your option: 1\n"
     ]
    },
    {
     "name": "stdout",
     "output_type": "stream",
     "text": [
      "your current balance is 12312324234\n",
      "\n",
      "                1. Balance\n",
      "                2. Withdraw balance\n",
      "                3. Deposit balance\n",
      "                4. Create account\n",
      "                5. Create Pin\n",
      "                6. Exit\n",
      "        \n"
     ]
    },
    {
     "name": "stdin",
     "output_type": "stream",
     "text": [
      "please enter your option: 1\n"
     ]
    },
    {
     "name": "stdout",
     "output_type": "stream",
     "text": [
      "your current balance is 12312324234\n",
      "\n",
      "                1. Balance\n",
      "                2. Withdraw balance\n",
      "                3. Deposit balance\n",
      "                4. Create account\n",
      "                5. Create Pin\n",
      "                6. Exit\n",
      "        \n"
     ]
    },
    {
     "name": "stdin",
     "output_type": "stream",
     "text": [
      "please enter your option: 6\n"
     ]
    }
   ],
   "source": [
    "import time\n",
    "\n",
    "print('please insert your CARD')\n",
    "\n",
    "time.sleep(2)\n",
    "\n",
    "bank_name = input(\"please enter your bank name ?\")\n",
    "password = 1234\n",
    "\n",
    "pin = int(input('enter your pin:'))\n",
    "balance = 10000\n",
    "\n",
    "\n",
    "if pin == password:\n",
    "    while True:\n",
    "        print('''\n",
    "                1. Balance\n",
    "                2. Withdraw balance\n",
    "                3. Deposit balance\n",
    "                4. Create account\n",
    "                5. Create Pin\n",
    "                6. Exit\n",
    "        ''')\n",
    "        \n",
    "\n",
    "        try:\n",
    "            option = int(input(\"please enter your option:\"))\n",
    "        except:\n",
    "            print(\"please enter valid option:\")\n",
    "\n",
    "        if option == 1:\n",
    "            print(f\"your current balance is {balance}\")\n",
    "\n",
    "\n",
    "        if option == 2:\n",
    "            withdraw_amount = int(input(\"please enter withdraw_amount:\"))\n",
    "            balance = balance - withdraw_amount\n",
    "            print(f\"{withdraw_amount} is debited from your accuont\")\n",
    "            print(f\"your current balance is {balance}\")\n",
    "\n",
    "\n",
    "        if option == 3:\n",
    "            deposit_amount = int(input(\"please enter deposit_amount\"))\n",
    "            balance = balance + deposit_amount\n",
    "            print(f\"{deposit_amount} is credited to your account\")\n",
    "            print(f\"your current balance is{balance}\")\n",
    "\n",
    "\n",
    "\n",
    "        if option == 4:\n",
    "            print('''\n",
    "                 Welcome to new account\n",
    "                 ''')\n",
    "            print(       f\"Welcome {bank_name}\"   )\n",
    "            Name = input(\"Enter your name:\")\n",
    "            Aadhar_number = int(input(\"Enter your aadhar number:\"))\n",
    "            phone_number = int(input(\"Enter your phone number:\"))\n",
    "            print(\"            🙏🙏🙏Your account is successfully created🙏🙏🙏  \\n                 Thank you for creating new account       \")\n",
    "            print(\"                   You will get new account number to your register phone number!!            \")\n",
    "\n",
    "\n",
    "\n",
    "        if option == 5:\n",
    "            print('''\n",
    "                     Welcome To Pin Gen\n",
    "            ''')\n",
    "            name = input('Enter Your Name:')\n",
    "            Number = int(input('Enter Your Phone Number:'))\n",
    "            New_Pin = int(input('Enter New Pin:'))\n",
    "            Conform_Pin = int(input('conform your pin:'))\n",
    "            print('Successfully completed 😊')\n",
    "\n",
    "\n",
    "        if option == 6:\n",
    "            break\n",
    "\n",
    "else:\n",
    "    print(\"wrong pin please try again😒\")\n"
   ]
  },
  {
   "cell_type": "code",
   "execution_count": null,
   "id": "80fa6d0f-d752-4003-b3f9-92f6bfa84bd0",
   "metadata": {},
   "outputs": [],
   "source": []
  }
 ],
 "metadata": {
  "kernelspec": {
   "display_name": "Python 3 (ipykernel)",
   "language": "python",
   "name": "python3"
  },
  "language_info": {
   "codemirror_mode": {
    "name": "ipython",
    "version": 3
   },
   "file_extension": ".py",
   "mimetype": "text/x-python",
   "name": "python",
   "nbconvert_exporter": "python",
   "pygments_lexer": "ipython3",
   "version": "3.13.0"
  }
 },
 "nbformat": 4,
 "nbformat_minor": 5
}
